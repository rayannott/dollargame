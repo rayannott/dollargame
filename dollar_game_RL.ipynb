{
 "cells": [
  {
   "cell_type": "markdown",
   "id": "ff9f3619",
   "metadata": {},
   "source": [
    "# Deep Reinforcement learning for the \"Dollar Game\" environment"
   ]
  },
  {
   "cell_type": "code",
   "execution_count": 1,
   "id": "8a9660eb",
   "metadata": {},
   "outputs": [],
   "source": [
    "# import the Graph which is the base for our environment\n",
    "import networkx as nx\n",
    "from Graph import DGGraph\n",
    "from Graph import load_game\n",
    "\n",
    "# import the classes for ML\n",
    "# from tensorflow.keras.models import Sequential\n",
    "# from tensorflow.keras.layers import Dense, Flatten\n",
    "# from tensorflow.keras.optimizers import Adam\n",
    "\n",
    "# utils\n",
    "import numpy as np\n",
    "import json"
   ]
  },
  {
   "cell_type": "markdown",
   "id": "5ff3b09a",
   "metadata": {},
   "source": [
    "## Sample game"
   ]
  },
  {
   "cell_type": "code",
   "execution_count": 2,
   "id": "e91a6ef0",
   "metadata": {},
   "outputs": [],
   "source": [
    "G = load_game('game2.json')"
   ]
  },
  {
   "cell_type": "code",
   "execution_count": 3,
   "id": "5c0118dc",
   "metadata": {},
   "outputs": [
    {
     "data": {
      "text/plain": [
       "[(0, {'val': 3, 'pos': [0.15018773466833543, 0.7629382303839733]}),\n",
       " (1, {'val': 0, 'pos': [0.6433041301627034, 0.8464106844741235]}),\n",
       " (2, {'val': 0, 'pos': [0.5043804755944932, 0.33889816360601]}),\n",
       " (3, {'val': -3, 'pos': [0.8022528160200251, 0.5959933222036728]}),\n",
       " (4, {'val': 2, 'pos': [0.18648310387984982, 0.25041736227045075]}),\n",
       " (5, {'val': 0, 'pos': [0.772215269086358, 0.3188647746243739]})]"
      ]
     },
     "execution_count": 3,
     "metadata": {},
     "output_type": "execute_result"
    }
   ],
   "source": [
    "list(G.nodes.items())"
   ]
  },
  {
   "cell_type": "code",
   "execution_count": 4,
   "id": "d4098408",
   "metadata": {},
   "outputs": [
    {
     "data": {
      "image/png": "[encoded data removed]",
      "text/plain": [
       "<Figure size 432x288 with 1 Axes>"
      ]
     },
     "metadata": {},
     "output_type": "display_data"
    }
   ],
   "source": [
    "nx.draw_networkx(G)"
   ]
  },
  {
   "cell_type": "code",
   "execution_count": 8,
   "id": "300e5bb9",
   "metadata": {
    "scrolled": true
   },
   "outputs": [
    {
     "data": {
      "text/plain": [
       "0"
      ]
     },
     "execution_count": 8,
     "metadata": {},
     "output_type": "execute_result"
    }
   ],
   "source": [
    "G.debt"
   ]
  },
  {
   "cell_type": "code",
   "execution_count": 6,
   "id": "9e441495",
   "metadata": {},
   "outputs": [],
   "source": [
    "G.give(4)\n",
    "G.give(4)\n",
    "G.give(5)\n",
    "G.give(5)\n",
    "G.give(0)\n",
    "G.give(0)\n",
    "G.give(0)\n",
    "G.give(1)\n",
    "G.give(1)\n",
    "G.give(1)\n",
    "G.give(2)\n",
    "G.give(2)\n",
    "G.give(2)\n",
    "G.give(4)"
   ]
  },
  {
   "cell_type": "code",
   "execution_count": 7,
   "id": "c9c72882",
   "metadata": {},
   "outputs": [],
   "source": []
  },
  {
   "cell_type": "markdown",
   "id": "5579942d",
   "metadata": {},
   "source": [
    "## Problem setup"
   ]
  },
  {
   "cell_type": "markdown",
   "id": "01eee559",
   "metadata": {},
   "source": [
    "### Environment\n",
    "A graph (DGGraph object) representing a given game. The graph has nodes (with integer values assigned to them) and edges.\\\n",
    "The state is a dictionary {node: node[value] for each node in graph}. \n",
    "\n",
    "### Objective\n",
    "Win the game by making debt (sum of all negative values) non-negative in as few moves as possible (avoid inverse actions; namely, both give and take actions on the same node)\n",
    "\n",
    "### Action space\n",
    "On each node, two actions can be taken: 'give' and 'take'.\\\n",
    "'Give' action increases value of the node's neighbors by 1 and subtracts len(neighbors) from its own value.\n",
    "'Take' action does the complete opposite.\\\n",
    "Thus, $A = \\left\\{(\\text{node},\\;\\text{give_or_take}): \\text{node}\\in\\text{nodes}, \\;\\text{give_or_take}\\in[\\text{give}, \\;\\text{take}]\\right\\}$\n",
    "\n",
    "### Reward function\n",
    "IDK lol. Probably, something to do with debt (and/or the number of negative values)"
   ]
  },
  {
   "cell_type": "markdown",
   "id": "5c52bac8",
   "metadata": {},
   "source": [
    "## Random actions model"
   ]
  },
  {
   "cell_type": "code",
   "execution_count": null,
   "id": "f6e25f80",
   "metadata": {},
   "outputs": [],
   "source": []
  },
  {
   "cell_type": "code",
   "execution_count": null,
   "id": "53534df1",
   "metadata": {},
   "outputs": [],
   "source": []
  },
  {
   "cell_type": "code",
   "execution_count": 7,
   "id": "06ecab81",
   "metadata": {},
   "outputs": [],
   "source": [
    "import pandas as pd\n",
    "import json\n",
    "import os"
   ]
  },
  {
   "cell_type": "code",
   "execution_count": 8,
   "id": "737cb5a3",
   "metadata": {},
   "outputs": [],
   "source": [
    "def get_list_of_game_files():\n",
    "    return [el for el in os.listdir('games') if el.endswith('.json')]"
   ]
  },
  {
   "cell_type": "code",
   "execution_count": 19,
   "id": "7cf3106a",
   "metadata": {},
   "outputs": [],
   "source": [
    "def assemble_games_dataframe():\n",
    "    # this dataframe will have columns: \n",
    "    # game_number, difficulty(genus?), number_of_plays, best_play, date_created\n",
    "    import time\n",
    "    data = {\n",
    "        'game_number': [],\n",
    "        'difficulty': [],\n",
    "        'num_of_plays': [],\n",
    "        'best_score': [],\n",
    "        'date_created': []\n",
    "    }\n",
    "    filenames = get_list_of_game_files()\n",
    "    for file in filenames:\n",
    "        with open('games/' + file, 'r') as f:\n",
    "            dat = json.load(f)\n",
    "        \n",
    "        data['game_number'].append(int(file[:-5]))\n",
    "        data['difficulty'].append('none yet')\n",
    "        data['num_of_plays'].append(len(dat['plays']))\n",
    "        data['best_score'].append('none yet 2')\n",
    "        data['date_created'].append(dat['info']['date_created'])\n",
    "    df = pd.DataFrame(data)\n",
    "    df = df.set_index('game_number')\n",
    "    df.sort_values('num_of_plays', inplace=True)\n",
    "    return df"
   ]
  },
  {
   "cell_type": "code",
   "execution_count": 20,
   "id": "645692a5",
   "metadata": {},
   "outputs": [],
   "source": [
    "df = assemble_games_dataframe()"
   ]
  },
  {
   "cell_type": "code",
   "execution_count": 21,
   "id": "d6d93e1e",
   "metadata": {},
   "outputs": [
    {
     "data": {
      "text/html": [
       "<div>\n",
       "<style scoped>\n",
       "    .dataframe tbody tr th:only-of-type {\n",
       "        vertical-align: middle;\n",
       "    }\n",
       "\n",
       "    .dataframe tbody tr th {\n",
       "        vertical-align: top;\n",
       "    }\n",
       "\n",
       "    .dataframe thead th {\n",
       "        text-align: right;\n",
       "    }\n",
       "</style>\n",
       "<table border=\"1\" class=\"dataframe\">\n",
       "  <thead>\n",
       "    <tr style=\"text-align: right;\">\n",
       "      <th></th>\n",
       "      <th>difficulty</th>\n",
       "      <th>num_of_plays</th>\n",
       "      <th>best_score</th>\n",
       "      <th>date_created</th>\n",
       "    </tr>\n",
       "    <tr>\n",
       "      <th>game_number</th>\n",
       "      <th></th>\n",
       "      <th></th>\n",
       "      <th></th>\n",
       "      <th></th>\n",
       "    </tr>\n",
       "  </thead>\n",
       "  <tbody>\n",
       "    <tr>\n",
       "      <th>11</th>\n",
       "      <td>none yet</td>\n",
       "      <td>0</td>\n",
       "      <td>none yet 2</td>\n",
       "      <td>18/05/2022 13:06:11</td>\n",
       "    </tr>\n",
       "    <tr>\n",
       "      <th>14</th>\n",
       "      <td>none yet</td>\n",
       "      <td>0</td>\n",
       "      <td>none yet 2</td>\n",
       "      <td>18/05/2022 13:07:48</td>\n",
       "    </tr>\n",
       "    <tr>\n",
       "      <th>5</th>\n",
       "      <td>none yet</td>\n",
       "      <td>0</td>\n",
       "      <td>none yet 2</td>\n",
       "      <td>18/05/2022 12:04:39</td>\n",
       "    </tr>\n",
       "    <tr>\n",
       "      <th>8</th>\n",
       "      <td>none yet</td>\n",
       "      <td>0</td>\n",
       "      <td>none yet 2</td>\n",
       "      <td>18/05/2022 12:21:02</td>\n",
       "    </tr>\n",
       "    <tr>\n",
       "      <th>10</th>\n",
       "      <td>none yet</td>\n",
       "      <td>1</td>\n",
       "      <td>none yet 2</td>\n",
       "      <td>18/05/2022 13:03:32</td>\n",
       "    </tr>\n",
       "    <tr>\n",
       "      <th>12</th>\n",
       "      <td>none yet</td>\n",
       "      <td>1</td>\n",
       "      <td>none yet 2</td>\n",
       "      <td>18/05/2022 13:06:29</td>\n",
       "    </tr>\n",
       "    <tr>\n",
       "      <th>13</th>\n",
       "      <td>none yet</td>\n",
       "      <td>1</td>\n",
       "      <td>none yet 2</td>\n",
       "      <td>18/05/2022 13:06:56</td>\n",
       "    </tr>\n",
       "    <tr>\n",
       "      <th>9</th>\n",
       "      <td>none yet</td>\n",
       "      <td>1</td>\n",
       "      <td>none yet 2</td>\n",
       "      <td>18/05/2022 12:26:29</td>\n",
       "    </tr>\n",
       "    <tr>\n",
       "      <th>2</th>\n",
       "      <td>none yet</td>\n",
       "      <td>2</td>\n",
       "      <td>none yet 2</td>\n",
       "      <td>16/05/2022 21:03:05</td>\n",
       "    </tr>\n",
       "    <tr>\n",
       "      <th>3</th>\n",
       "      <td>none yet</td>\n",
       "      <td>2</td>\n",
       "      <td>none yet 2</td>\n",
       "      <td>16/05/2022 21:06:54</td>\n",
       "    </tr>\n",
       "    <tr>\n",
       "      <th>7</th>\n",
       "      <td>none yet</td>\n",
       "      <td>2</td>\n",
       "      <td>none yet 2</td>\n",
       "      <td>18/05/2022 12:12:56</td>\n",
       "    </tr>\n",
       "    <tr>\n",
       "      <th>6</th>\n",
       "      <td>none yet</td>\n",
       "      <td>3</td>\n",
       "      <td>none yet 2</td>\n",
       "      <td>18/05/2022 12:11:08</td>\n",
       "    </tr>\n",
       "    <tr>\n",
       "      <th>1</th>\n",
       "      <td>none yet</td>\n",
       "      <td>4</td>\n",
       "      <td>none yet 2</td>\n",
       "      <td>16/05/2022 20:48:28</td>\n",
       "    </tr>\n",
       "  </tbody>\n",
       "</table>\n",
       "</div>"
      ],
      "text/plain": [
       "            difficulty  num_of_plays  best_score         date_created\n",
       "game_number                                                          \n",
       "11            none yet             0  none yet 2  18/05/2022 13:06:11\n",
       "14            none yet             0  none yet 2  18/05/2022 13:07:48\n",
       "5             none yet             0  none yet 2  18/05/2022 12:04:39\n",
       "8             none yet             0  none yet 2  18/05/2022 12:21:02\n",
       "10            none yet             1  none yet 2  18/05/2022 13:03:32\n",
       "12            none yet             1  none yet 2  18/05/2022 13:06:29\n",
       "13            none yet             1  none yet 2  18/05/2022 13:06:56\n",
       "9             none yet             1  none yet 2  18/05/2022 12:26:29\n",
       "2             none yet             2  none yet 2  16/05/2022 21:03:05\n",
       "3             none yet             2  none yet 2  16/05/2022 21:06:54\n",
       "7             none yet             2  none yet 2  18/05/2022 12:12:56\n",
       "6             none yet             3  none yet 2  18/05/2022 12:11:08\n",
       "1             none yet             4  none yet 2  16/05/2022 20:48:28"
      ]
     },
     "execution_count": 21,
     "metadata": {},
     "output_type": "execute_result"
    }
   ],
   "source": [
    "df"
   ]
  },
  {
   "cell_type": "code",
   "execution_count": 23,
   "id": "c1f2b264",
   "metadata": {},
   "outputs": [],
   "source": [
    "df6 = df[:6]"
   ]
  },
  {
   "cell_type": "code",
   "execution_count": 24,
   "id": "b007b2d1",
   "metadata": {},
   "outputs": [
    {
     "data": {
      "text/html": [
       "<div>\n",
       "<style scoped>\n",
       "    .dataframe tbody tr th:only-of-type {\n",
       "        vertical-align: middle;\n",
       "    }\n",
       "\n",
       "    .dataframe tbody tr th {\n",
       "        vertical-align: top;\n",
       "    }\n",
       "\n",
       "    .dataframe thead th {\n",
       "        text-align: right;\n",
       "    }\n",
       "</style>\n",
       "<table border=\"1\" class=\"dataframe\">\n",
       "  <thead>\n",
       "    <tr style=\"text-align: right;\">\n",
       "      <th></th>\n",
       "      <th>difficulty</th>\n",
       "      <th>num_of_plays</th>\n",
       "      <th>best_score</th>\n",
       "      <th>date_created</th>\n",
       "    </tr>\n",
       "    <tr>\n",
       "      <th>game_number</th>\n",
       "      <th></th>\n",
       "      <th></th>\n",
       "      <th></th>\n",
       "      <th></th>\n",
       "    </tr>\n",
       "  </thead>\n",
       "  <tbody>\n",
       "    <tr>\n",
       "      <th>11</th>\n",
       "      <td>none yet</td>\n",
       "      <td>0</td>\n",
       "      <td>none yet 2</td>\n",
       "      <td>18/05/2022 13:06:11</td>\n",
       "    </tr>\n",
       "    <tr>\n",
       "      <th>14</th>\n",
       "      <td>none yet</td>\n",
       "      <td>0</td>\n",
       "      <td>none yet 2</td>\n",
       "      <td>18/05/2022 13:07:48</td>\n",
       "    </tr>\n",
       "    <tr>\n",
       "      <th>5</th>\n",
       "      <td>none yet</td>\n",
       "      <td>0</td>\n",
       "      <td>none yet 2</td>\n",
       "      <td>18/05/2022 12:04:39</td>\n",
       "    </tr>\n",
       "    <tr>\n",
       "      <th>8</th>\n",
       "      <td>none yet</td>\n",
       "      <td>0</td>\n",
       "      <td>none yet 2</td>\n",
       "      <td>18/05/2022 12:21:02</td>\n",
       "    </tr>\n",
       "    <tr>\n",
       "      <th>10</th>\n",
       "      <td>none yet</td>\n",
       "      <td>1</td>\n",
       "      <td>none yet 2</td>\n",
       "      <td>18/05/2022 13:03:32</td>\n",
       "    </tr>\n",
       "    <tr>\n",
       "      <th>12</th>\n",
       "      <td>none yet</td>\n",
       "      <td>1</td>\n",
       "      <td>none yet 2</td>\n",
       "      <td>18/05/2022 13:06:29</td>\n",
       "    </tr>\n",
       "  </tbody>\n",
       "</table>\n",
       "</div>"
      ],
      "text/plain": [
       "            difficulty  num_of_plays  best_score         date_created\n",
       "game_number                                                          \n",
       "11            none yet             0  none yet 2  18/05/2022 13:06:11\n",
       "14            none yet             0  none yet 2  18/05/2022 13:07:48\n",
       "5             none yet             0  none yet 2  18/05/2022 12:04:39\n",
       "8             none yet             0  none yet 2  18/05/2022 12:21:02\n",
       "10            none yet             1  none yet 2  18/05/2022 13:03:32\n",
       "12            none yet             1  none yet 2  18/05/2022 13:06:29"
      ]
     },
     "execution_count": 24,
     "metadata": {},
     "output_type": "execute_result"
    }
   ],
   "source": [
    "df6"
   ]
  },
  {
   "cell_type": "code",
   "execution_count": 36,
   "id": "48e431ba",
   "metadata": {},
   "outputs": [
    {
     "name": "stdout",
     "output_type": "stream",
     "text": [
      "11 {'difficulty': 'none yet', 'num_of_plays': 0, 'best_score': 'none yet 2', 'date_created': '18/05/2022 13:06:11'}\n",
      "14 {'difficulty': 'none yet', 'num_of_plays': 0, 'best_score': 'none yet 2', 'date_created': '18/05/2022 13:07:48'}\n",
      "5 {'difficulty': 'none yet', 'num_of_plays': 0, 'best_score': 'none yet 2', 'date_created': '18/05/2022 12:04:39'}\n",
      "8 {'difficulty': 'none yet', 'num_of_plays': 0, 'best_score': 'none yet 2', 'date_created': '18/05/2022 12:21:02'}\n",
      "10 {'difficulty': 'none yet', 'num_of_plays': 1, 'best_score': 'none yet 2', 'date_created': '18/05/2022 13:03:32'}\n",
      "12 {'difficulty': 'none yet', 'num_of_plays': 1, 'best_score': 'none yet 2', 'date_created': '18/05/2022 13:06:29'}\n"
     ]
    }
   ],
   "source": [
    "for game_num, row in df6.iterrows():\n",
    "    print(i, dict(row))"
   ]
  },
  {
   "cell_type": "code",
   "execution_count": null,
   "id": "8704ae92",
   "metadata": {},
   "outputs": [],
   "source": []
  }
 ],
 "metadata": {
  "kernelspec": {
   "display_name": "Python 3 (ipykernel)",
   "language": "python",
   "name": "python3"
  },
  "language_info": {
   "codemirror_mode": {
    "name": "ipython",
    "version": 3
   },
   "file_extension": ".py",
   "mimetype": "text/x-python",
   "name": "python",
   "nbconvert_exporter": "python",
   "pygments_lexer": "ipython3",
   "version": "3.8.12"
  }
 },
 "nbformat": 4,
 "nbformat_minor": 5
}
