{
 "cells": [
  {
   "cell_type": "markdown",
   "id": "ff9f3619",
   "metadata": {},
   "source": [
    "# Deep Reinforcement learning for the \"Dollar Game\" environment"
   ]
  },
  {
   "cell_type": "code",
   "execution_count": 1,
   "id": "8a9660eb",
   "metadata": {},
   "outputs": [],
   "source": [
    "# import the Graph which is the base for our environment\n",
    "import networkx as nx\n",
    "from Graph import DGGraph, generate_game\n",
    "from Graph import load_game\n",
    "\n",
    "# import the classes for ML\n",
    "# from tensorflow.keras.models import Sequential\n",
    "# from tensorflow.keras.layers import Dense, Flatten\n",
    "# from tensorflow.keras.optimizers import Adam\n",
    "\n",
    "# utils\n",
    "import numpy as np\n",
    "from matplotlib import pyplot as plt\n",
    "from random import choice\n",
    "from copy import deepcopy"
   ]
  },
  {
   "cell_type": "markdown",
   "id": "5579942d",
   "metadata": {},
   "source": [
    "## Problem setup"
   ]
  },
  {
   "cell_type": "markdown",
   "id": "01eee559",
   "metadata": {},
   "source": [
    "### Environment\n",
    "A graph (DGGraph object) representing a given game. The graph has nodes (with integer values assigned to them) and edges.\\\n",
    "The state is a dictionary {node: node[value] for each node in graph}. \n",
    "\n",
    "### Objective\n",
    "Win the game by making debt (sum of all negative values) non-negative in as few moves as possible (avoid inverse actions; namely, both give and take actions on the same node)\n",
    "\n",
    "### Action space\n",
    "On each node, two actions can be taken: 'give' and 'take'.\\\n",
    "'Give' action increases value of the node's neighbors by 1 and subtracts len(neighbors) from its own value.\n",
    "'Take' action does the complete opposite.\\\n",
    "Thus, $A = \\left\\{(\\text{node},\\;\\text{give_or_take}): \\text{node}\\in\\text{nodes}, \\;\\text{give_or_take}\\in[\\text{give}, \\;\\text{take}]\\right\\}$\n",
    "\n",
    "### Reward function\n",
    "IDK lol. Probably, something to do with debt (and/or the number of negative values)"
   ]
  },
  {
   "cell_type": "markdown",
   "id": "5ff3b09a",
   "metadata": {},
   "source": [
    "## Graph visualization"
   ]
  },
  {
   "cell_type": "code",
   "execution_count": 2,
   "id": "2744a4b9",
   "metadata": {},
   "outputs": [],
   "source": [
    "def print_graph(G):\n",
    "    for n in G.nodes:\n",
    "        print(n, G.nodes[n])"
   ]
  },
  {
   "cell_type": "code",
   "execution_count": 3,
   "id": "590d0376",
   "metadata": {},
   "outputs": [],
   "source": [
    "def scale_down_positions(pos):\n",
    "    x, y = pos\n",
    "    return (x - 160)/640 - 0.5, 1 - y/600 - 0.5"
   ]
  },
  {
   "cell_type": "code",
   "execution_count": 4,
   "id": "8d06658c",
   "metadata": {},
   "outputs": [],
   "source": [
    "def draw_graph(G, transform=True, savefig=''):\n",
    "    pos = {node: scale_down_positions(node_data['pos']) if transform else node_data['pos'] \\\n",
    "        for node, node_data in G.nodes.items()}\n",
    "    fig, ax = plt.subplots(figsize=(7, 7))\n",
    "    for node, node_data in G.nodes.items():\n",
    "        plt.text(pos[node][0] + 0.02, pos[node][1] + 0.02, str(node_data['val']), fontsize=14)\n",
    "        # TODO: fix the shift of values' labels\n",
    "    nx.draw_networkx(G, pos=pos, ax=ax, node_size=250)\n",
    "    if savefig:\n",
    "        fig.savefig(f'others/{savefig}')"
   ]
  },
  {
   "cell_type": "code",
   "execution_count": 5,
   "id": "c3c91c4b",
   "metadata": {},
   "outputs": [],
   "source": [
    "def random_list_of_values1(n, bank=0):\n",
    "    # TODO: generate a list of n integers totalling to bank (fix this!)\n",
    "    while True:\n",
    "        a = np.random.randint(-4, 5, n)\n",
    "        if sum(a) == bank and sum(a < 0):\n",
    "            return a.tolist()"
   ]
  },
  {
   "cell_type": "code",
   "execution_count": 6,
   "id": "79768049",
   "metadata": {},
   "outputs": [],
   "source": [
    "def random_list_of_values2(n, bank=0):\n",
    "    # this one is 10 times as fast as v1\n",
    "    a = np.random.randint(-3, 4, n)\n",
    "    diff = sum(a) - bank\n",
    "    shifts = (2, 1) if diff > 0 else (-2, -1)\n",
    "    for _ in range(abs(diff)):\n",
    "        inds = np.random.choice(np.arange(len(a)), 2)\n",
    "        a[inds[0]] -= shifts[0]\n",
    "        a[inds[1]] += shifts[1]\n",
    "    return a"
   ]
  },
  {
   "cell_type": "markdown",
   "id": "3070794f",
   "metadata": {},
   "source": [
    "## Pseudorandom actions\n",
    "(negative values take, positive give)"
   ]
  },
  {
   "cell_type": "code",
   "execution_count": 7,
   "id": "66238832",
   "metadata": {},
   "outputs": [],
   "source": [
    "def collapse_moves(moves):\n",
    "    collapsed = dict()\n",
    "    for node, move in moves:\n",
    "        if not node in collapsed.keys():\n",
    "            collapsed[node] = 0\n",
    "        collapsed[node] += 1 if move == 'take' else -1\n",
    "    num_moves = sum([abs(num) for num in collapsed.values()])\n",
    "    return collapsed, num_moves"
   ]
  },
  {
   "cell_type": "code",
   "execution_count": 15,
   "id": "559e2956",
   "metadata": {},
   "outputs": [],
   "source": [
    "def solve(G):\n",
    "    done = False\n",
    "    moves = []\n",
    "    while not done:\n",
    "        n = choice(list(G.nodes))\n",
    "        if G.nodes[n]['val'] > 0:\n",
    "            G.give(n)\n",
    "            moves.append((n, 'give'))\n",
    "        elif G.nodes[n]['val'] < 0:\n",
    "            G.take(n)\n",
    "            moves.append((n, 'take'))\n",
    "        if G.is_victory():\n",
    "            done = True\n",
    "    return collapse_moves(moves), len(moves)\n",
    "    "
   ]
  },
  {
   "cell_type": "code",
   "execution_count": 9,
   "id": "a866c111",
   "metadata": {},
   "outputs": [],
   "source": [
    "def solve2(G):\n",
    "    done = False\n",
    "    moves = []"
   ]
  },
  {
   "cell_type": "code",
   "execution_count": 10,
   "id": "e04eb931",
   "metadata": {},
   "outputs": [],
   "source": [
    "def show_instruction(moves):\n",
    "    for node, move in moves.items():\n",
    "        if move < 0:\n",
    "            print(f'Node {node} gives {abs(move)} times')\n",
    "        elif move > 0:\n",
    "            print(f'Node {node} takes {abs(move)} times')"
   ]
  },
  {
   "cell_type": "code",
   "execution_count": 16,
   "id": "140896da",
   "metadata": {},
   "outputs": [],
   "source": [
    "def find_best(G, N=1000):\n",
    "    s = 0\n",
    "    best_so_far = None\n",
    "    min_num_of_moves = np.inf\n",
    "    for _ in range(N):\n",
    "        g = deepcopy(G)\n",
    "        (moves, number_of_moves), tot_len = solve(g)\n",
    "        s += tot_len\n",
    "        if number_of_moves < min_num_of_moves:\n",
    "            best_so_far = moves\n",
    "            min_num_of_moves = number_of_moves\n",
    "    average_non_collapsed_len = s / N\n",
    "    return best_so_far, min_num_of_moves, average_non_collapsed_len"
   ]
  },
  {
   "cell_type": "code",
   "execution_count": 25,
   "id": "7b1f34db",
   "metadata": {},
   "outputs": [],
   "source": [
    "G = load_game('7.json')\n",
    "# G, name = get_random_game()\n",
    "# draw_graph(G), name"
   ]
  },
  {
   "cell_type": "code",
   "execution_count": 26,
   "id": "749bcd8a",
   "metadata": {},
   "outputs": [
    {
     "name": "stdout",
     "output_type": "stream",
     "text": [
      "Number of moves: 7\n",
      "Average length of non collapsed moves sequence: 37.215\n",
      "Node 3 gives 1 times\n",
      "Node 0 takes 1 times\n",
      "Node 2 gives 1 times\n",
      "Node 5 takes 2 times\n",
      "Node 4 takes 1 times\n",
      "Node 6 gives 1 times\n"
     ]
    }
   ],
   "source": [
    "moves_best, num_best, avg_non_collapsed = find_best(G, N=1000)\n",
    "print(f'Number of moves: {num_best}\\nAverage non collapsed moves sequence length: {avg_non_collapsed}')\n",
    "show_instruction(moves_best)"
   ]
  },
  {
   "cell_type": "code",
   "execution_count": null,
   "id": "2e54831c",
   "metadata": {},
   "outputs": [],
   "source": []
  }
 ],
 "metadata": {
  "interpreter": {
   "hash": "49cb93f377a7abe7414b7b0f21fb3017538004a126cf690fb524202736b7fb92"
  },
  "kernelspec": {
   "display_name": "Python 3.8.12 ('base')",
   "language": "python",
   "name": "python3"
  },
  "language_info": {
   "codemirror_mode": {
    "name": "ipython",
    "version": 3
   },
   "file_extension": ".py",
   "mimetype": "text/x-python",
   "name": "python",
   "nbconvert_exporter": "python",
   "pygments_lexer": "ipython3",
   "version": "3.8.12"
  }
 },
 "nbformat": 4,
 "nbformat_minor": 5
}
